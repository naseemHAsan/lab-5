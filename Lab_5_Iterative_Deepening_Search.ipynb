{
  "nbformat": 4,
  "nbformat_minor": 0,
  "metadata": {
    "colab": {
      "provenance": [],
      "collapsed_sections": []
    },
    "kernelspec": {
      "name": "python3",
      "display_name": "Python 3"
    },
    "language_info": {
      "name": "python"
    }
  },
  "cells": [
    {
      "cell_type": "markdown",
      "source": [
        "# Lab 5 Iterative Deepening Search"
      ],
      "metadata": {
        "id": "7-VSFFzIFlV8"
      }
    },
    {
      "cell_type": "markdown",
      "source": [
        "## Lab Task 2"
      ],
      "metadata": {
        "id": "KtE01m82I3cG"
      }
    },
    {
      "cell_type": "code",
      "source": [
        "class Trie:\n",
        "  def __init__(self):\n",
        "    self.character = {}\n",
        "    self.isLeaf = False"
      ],
      "metadata": {
        "id": "qkjKdZLQRrVw"
      },
      "execution_count": null,
      "outputs": []
    },
    {
      "cell_type": "code",
      "source": [
        "def insert(root, string):\n",
        "  current = root\n",
        "  for character in string:\n",
        "    current = current.character.setdefault(character, Trie())\n",
        "\n",
        "  current.isLeaf = True  "
      ],
      "metadata": {
        "id": "rK6KWSo9R7Ga"
      },
      "execution_count": null,
      "outputs": []
    },
    {
      "cell_type": "code",
      "source": [
        "row = [-1, -1, -1, 0, 1, 0, 1, 1]\n",
        "column = [-1, 1, 0, -1, -1, 1, 0, 1]"
      ],
      "metadata": {
        "id": "cNncbhh28wTW"
      },
      "execution_count": null,
      "outputs": []
    },
    {
      "cell_type": "code",
      "source": [
        "def isSafe(x, y, processed, board, character):\n",
        "  return (0 <= x < len(processed)) and (0 <= y < len(processed[0])) and not processed[x][y] and (board[x][y] == character)"
      ],
      "metadata": {
        "id": "U02Bqby69Qxt"
      },
      "execution_count": null,
      "outputs": []
    },
    {
      "cell_type": "code",
      "source": [
        "def searchBoggle(root, board, i, j, processed, path, result):\n",
        "  if root.isLeaf:\n",
        "    result.add(path)\n",
        "\n",
        "  processed[i][j] = True\n",
        "\n",
        "  for key, value in root.character.items():\n",
        "\n",
        "    for k in range(len(row)):\n",
        "      if isSafe(i + row[k], j + column[k], processed, board, key):\n",
        "        searchBoggle(value, board, i + row[k], j + column[k], processed, path + key, result)\n",
        "\n",
        "  processed[i][j] = False"
      ],
      "metadata": {
        "id": "uOsCzfRw-D1m"
      },
      "execution_count": null,
      "outputs": []
    },
    {
      "cell_type": "code",
      "source": [
        "def searchInBoggle(board, words):\n",
        "  result = set()\n",
        "\n",
        "  if not board or not len(board):\n",
        "    return\n",
        "\n",
        "  root = Trie()\n",
        "  for word in words:\n",
        "    insert(root, word)  \n",
        "\n",
        "  (M, N) = (len(board), len(board[0]))\n",
        "\n",
        "  processed = [[False for x in range(N)] for y in range(M)]\n",
        "\n",
        "  for i in range(M):\n",
        "    for j in range(N):\n",
        "      character = board[i][j]\n",
        "\n",
        "      if character in root.character:\n",
        "        searchBoggle(root.character[character], board, i, j, processed, character, result)\n",
        "\n",
        "  return result"
      ],
      "metadata": {
        "id": "VOYh72otAaAK"
      },
      "execution_count": null,
      "outputs": []
    },
    {
      "cell_type": "code",
      "source": [
        "if __name__ == '__main__':\n",
        "  board = [\n",
        "      ['M', 'S', 'E', 'F'],\n",
        "      ['R', 'A', 'T', 'D'],\n",
        "      ['L', 'O', 'N', 'E'],\n",
        "      ['K', 'A', 'F', 'B']\n",
        "  ]\n",
        "\n",
        "  words = ['START', 'NOTE', 'SAND', 'STONED']\n",
        "  validWords = searchInBoggle(board, words)\n",
        "\n",
        "  print('Valid Words: ', validWords)"
      ],
      "metadata": {
        "colab": {
          "base_uri": "https://localhost:8080/"
        },
        "id": "4WhGXTZLCP4Q",
        "outputId": "aa9c551b-bc71-47e5-e7a5-a20b9719f732"
      },
      "execution_count": null,
      "outputs": [
        {
          "output_type": "stream",
          "name": "stdout",
          "text": [
            "Valid Words:  {'STONED', 'SAND', 'NOTE'}\n"
          ]
        }
      ]
    },
    {
      "cell_type": "markdown",
      "source": [
        "## Lab Task 1"
      ],
      "metadata": {
        "id": "gdwFjV0YKr6Y"
      }
    },
    {
      "cell_type": "code",
      "source": [
        "class Problem(object):\n",
        "\n",
        "  def __init__(self, initial, goal=None):\n",
        "    self.initial = initial\n",
        "    self.goal = goal\n",
        "\n",
        "  def actions(self, state):\n",
        "    raise NotImplementedError\n",
        "\n",
        "  def result(self, state, action):\n",
        "    raise NotImplementedError\n",
        "\n",
        "  def goal_test(self, state):\n",
        "    if isinstance(self.goal, list):\n",
        "      return is_in(state, self.goal)\n",
        "    else:\n",
        "      return state == self.goal\n",
        "\n",
        "  def path_cost(self, c, state1, action, state2):\n",
        "    return c + 1\n",
        "\n",
        "  def value(self, state):\n",
        "    raise NotImplementedError              "
      ],
      "metadata": {
        "id": "i29M59LgK-Qc"
      },
      "execution_count": null,
      "outputs": []
    },
    {
      "cell_type": "code",
      "source": [
        "class Node:\n",
        "  def __init__(self, state, parent=None, action=None, path_cost=0):\n",
        "    self.state = state\n",
        "    self.parent = parent\n",
        "    self.action = action\n",
        "    self.path_cost = path_cost\n",
        "    self.depth = 0\n",
        "\n",
        "    if parent:\n",
        "      self.depth = parent.depth + 1\n",
        "\n",
        "  def __repr__(self):\n",
        "    return \"<Node {}>\".format(self.state)\n",
        "\n",
        "  def __lt__(self, node):\n",
        "    return self.state < node.state\n",
        "\n",
        "  def expand(self, problem):\n",
        "    return [self.child_node(problem, action) for action in problem.actions(self.state)]     \n",
        "\n",
        "  def child_node(self, problem, action):\n",
        "    next_state = problem.result(self.state, action)\n",
        "    next_node = Node(next_state, self, action, problem.path_cost(self.path_cost, self.state, action, next_state)) \n",
        "\n",
        "    return next_node\n",
        "\n",
        "  def solution(self):\n",
        "    return [node.action for node in self.path()[1:]]\n",
        "\n",
        "  def path(self):\n",
        "    node, path_back = self, []\n",
        "    while node:\n",
        "      path_back.append(node)\n",
        "      node = node.parent\n",
        "    return list(reversed(path_back))    \n",
        "\n",
        "  def __eq__(self, other):\n",
        "    return isinstance(other, Node) and self.state == other.state\n",
        "\n",
        "  def __hash__(self):\n",
        "    return hash(self.state)      "
      ],
      "metadata": {
        "id": "Jy3iFBXpLzw_"
      },
      "execution_count": null,
      "outputs": []
    },
    {
      "cell_type": "code",
      "source": [
        "def depth_limited_search_for_vis(problem):\n",
        "  iterations, all_node_colors, node = depth_limited_search_graph(problem)\n",
        "  return (iterations, all_node_colors, node)"
      ],
      "metadata": {
        "id": "Dt2OBfPmaw-Q"
      },
      "execution_count": null,
      "outputs": []
    },
    {
      "cell_type": "code",
      "source": [
        "def iterative_deepening_search_for_vis(problem):\n",
        "  for depth in range(sys.maxsize):\n",
        "    iterations, all_node_colors, node=depth_limited_search_graph_for_vis(problem)\n",
        "    if iterations:\n",
        "      return (iterations, all_node_colors, node)"
      ],
      "metadata": {
        "id": "-e0eVYknbSvT"
      },
      "execution_count": null,
      "outputs": []
    },
    {
      "cell_type": "code",
      "source": [
        "romania_map = (dict(\n",
        "    Arad = dict(Zerind=75, Sibiu=140, Timisoara=118),\n",
        "    Bucharest = dict(Urziceni=85, Pitesti=101, Giurgiu=90, Fagaras=211),\n",
        "    Craiova = dict(Drobeta=120, Rimnicu=146, Pitesti=138),\n",
        "    Drobeta = dict(Mehadia=75),\n",
        "    Eforie = dict(Hirsova=86),\n",
        "    Fagaras = dict(Sibiu=99),\n",
        "    Hirsova = dict(Urziceni=98),\n",
        "    Iasi=dict(Vaslui=92, Neamt=87),\n",
        "    Lugoj=dict(Timisoara=111, Mehadia=70),\n",
        "    Oradea = dict(Zerind=71, Sibui=151),\n",
        "    Pitesti = dict(Riminicu=97),\n",
        "    Rimnicu=dict(Sibiu=80),\n",
        "    Urziceni=dict(Vaslui=143),\n",
        "))"
      ],
      "metadata": {
        "id": "VVP5wJyJVeS8"
      },
      "execution_count": null,
      "outputs": []
    },
    {
      "cell_type": "code",
      "source": [
        "romania_map = dict(\n",
        "    Arad=(91, 492), Bucharest=(400, 327), Craiova=(253, 288),\n",
        "    Drobeta=(165, 299), Eforie=(562, 293), Fagaras=(305, 449),\n",
        "    Giurgiu=(375, 270), Hirsova=(534, 350), Iasi=(473, 506),\n",
        "    Lugoj=(165, 379), Mehadia=(168, 339), Neamt=(406, 537),\n",
        "    Oradea=(131, 571), Pitesti=(320, 368), Rimnicu=(233, 410),\n",
        "    Sibiu=(207, 457), Timisoara=(94, 410), Urziceni=(456, 350),\n",
        "    Vaslui=(509, 444), Zerind=(108, 531)\n",
        ")"
      ],
      "metadata": {
        "id": "EAevQFGmYYJA"
      },
      "execution_count": null,
      "outputs": []
    },
    {
      "cell_type": "code",
      "source": [
        "all_node_colors = []\n",
        "romania_problem = GraphProblem('Arad', 'Bucharest', romania_map)\n",
        "display_visual(rominia_graph_data, \n",
        "               user_input=False, \n",
        "               alogrithm=iterative_deepening_search_for_vis,\n",
        "               problem=romania_problem)"
      ],
      "metadata": {
        "id": "AGNv_-3HcR6W"
      },
      "execution_count": null,
      "outputs": []
    },
    {
      "cell_type": "code",
      "source": [],
      "metadata": {
        "id": "1cqwnRymc0zC"
      },
      "execution_count": null,
      "outputs": []
    }
  ]
}